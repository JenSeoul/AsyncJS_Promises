{
  "nbformat": 4,
  "nbformat_minor": 0,
  "metadata": {
    "kernelspec": {
      "display_name": "Python 3",
      "language": "python",
      "name": "python3"
    },
    "language_info": {
      "codemirror_mode": {
        "name": "ipython",
        "version": 3
      },
      "file_extension": ".py",
      "mimetype": "text/x-python",
      "name": "python",
      "nbconvert_exporter": "python",
      "pygments_lexer": "ipython3",
      "version": "3.7.7"
    },
    "colab": {
      "name": "n211a-simple-regression.ipynb",
      "provenance": [],
      "include_colab_link": true
    }
  },
  "cells": [
    {
      "cell_type": "markdown",
      "metadata": {
        "id": "view-in-github",
        "colab_type": "text"
      },
      "source": [
        "<a href=\"https://colab.research.google.com/github/JenSeoul/AsyncJS_Promises/blob/main/n211a_simple_regression.ipynb\" target=\"_parent\"><img src=\"https://colab.research.google.com/assets/colab-badge.svg\" alt=\"Open In Colab\"/></a>"
      ]
    },
    {
      "cell_type": "markdown",
      "metadata": {
        "id": "CZngT4psAU3r"
      },
      "source": [
        "<img align=\"right\" src=\"https://ds-cs-images.s3.ap-northeast-2.amazonaws.com/Codestates_Fulllogo_Color.png\" width=100>\n",
        "\n",
        "## *DATA SCIENCE / SECTION 2 / SPRINT 1 / NOTE 1*\n",
        "\n",
        "# 📝 Assignment\n",
        "---"
      ]
    },
    {
      "cell_type": "markdown",
      "metadata": {
        "id": "7IXUfiQ2UKj6"
      },
      "source": [
        "# Linear Regression\n",
        "\n",
        "이번 모듈에서 사용한 데이터와 유사한 데이터를 사용해 복습해 보겠습니다. 이 데이터셋은 미국 시애틀 King County 지역에서 2014년 5월부터 ~ 2015년 5월 까지 주택 판매 가격 데이터입니다.\n",
        "\n",
        "   - [House Sales in King County, USA](https://www.kaggle.com/harlfoxem/housesalesprediction?select=kc_house_data.csv)\n",
        "\n",
        "\n",
        "이 데이터를 사용해 다음 과제를 마크다운과 코드를 사용해 진행해 주세요."
      ]
    },
    {
      "cell_type": "code",
      "metadata": {
        "id": "9PpFaZ8MAU3u"
      },
      "source": [
        "# 데이터는 캐글에서 받으셔도 되고 이 링크에서 불러와도 됩니다.\n",
        "import pandas as pd\n",
        "import numpy as np\n",
        "import seaborn as sns\n",
        "import matplotlib.pyplot as plt\n",
        "import sklearn \n",
        "\n",
        "df = pd.read_csv('https://ds-lecture-data.s3.ap-northeast-2.amazonaws.com/kc_house_data/kc_house_data.csv')\n"
      ],
      "execution_count": null,
      "outputs": []
    },
    {
      "cell_type": "code",
      "metadata": {
        "id": "cHlf87P5AXpP",
        "colab": {
          "base_uri": "https://localhost:8080/",
          "height": 224
        },
        "outputId": "b83444f2-1cf6-4186-f929-cc09a243c281"
      },
      "source": [
        "df.head()"
      ],
      "execution_count": null,
      "outputs": [
        {
          "output_type": "execute_result",
          "data": {
            "text/html": [
              "<div>\n",
              "<style scoped>\n",
              "    .dataframe tbody tr th:only-of-type {\n",
              "        vertical-align: middle;\n",
              "    }\n",
              "\n",
              "    .dataframe tbody tr th {\n",
              "        vertical-align: top;\n",
              "    }\n",
              "\n",
              "    .dataframe thead th {\n",
              "        text-align: right;\n",
              "    }\n",
              "</style>\n",
              "<table border=\"1\" class=\"dataframe\">\n",
              "  <thead>\n",
              "    <tr style=\"text-align: right;\">\n",
              "      <th></th>\n",
              "      <th>id</th>\n",
              "      <th>date</th>\n",
              "      <th>price</th>\n",
              "      <th>bedrooms</th>\n",
              "      <th>bathrooms</th>\n",
              "      <th>sqft_living</th>\n",
              "      <th>sqft_lot</th>\n",
              "      <th>floors</th>\n",
              "      <th>waterfront</th>\n",
              "      <th>view</th>\n",
              "      <th>condition</th>\n",
              "      <th>grade</th>\n",
              "      <th>sqft_above</th>\n",
              "      <th>sqft_basement</th>\n",
              "      <th>yr_built</th>\n",
              "      <th>yr_renovated</th>\n",
              "      <th>zipcode</th>\n",
              "      <th>lat</th>\n",
              "      <th>long</th>\n",
              "      <th>sqft_living15</th>\n",
              "      <th>sqft_lot15</th>\n",
              "    </tr>\n",
              "  </thead>\n",
              "  <tbody>\n",
              "    <tr>\n",
              "      <th>0</th>\n",
              "      <td>7129300520</td>\n",
              "      <td>20141013T000000</td>\n",
              "      <td>221900.0</td>\n",
              "      <td>3</td>\n",
              "      <td>1.00</td>\n",
              "      <td>1180</td>\n",
              "      <td>5650</td>\n",
              "      <td>1.0</td>\n",
              "      <td>0</td>\n",
              "      <td>0</td>\n",
              "      <td>3</td>\n",
              "      <td>7</td>\n",
              "      <td>1180</td>\n",
              "      <td>0</td>\n",
              "      <td>1955</td>\n",
              "      <td>0</td>\n",
              "      <td>98178</td>\n",
              "      <td>47.5112</td>\n",
              "      <td>-122.257</td>\n",
              "      <td>1340</td>\n",
              "      <td>5650</td>\n",
              "    </tr>\n",
              "    <tr>\n",
              "      <th>1</th>\n",
              "      <td>6414100192</td>\n",
              "      <td>20141209T000000</td>\n",
              "      <td>538000.0</td>\n",
              "      <td>3</td>\n",
              "      <td>2.25</td>\n",
              "      <td>2570</td>\n",
              "      <td>7242</td>\n",
              "      <td>2.0</td>\n",
              "      <td>0</td>\n",
              "      <td>0</td>\n",
              "      <td>3</td>\n",
              "      <td>7</td>\n",
              "      <td>2170</td>\n",
              "      <td>400</td>\n",
              "      <td>1951</td>\n",
              "      <td>1991</td>\n",
              "      <td>98125</td>\n",
              "      <td>47.7210</td>\n",
              "      <td>-122.319</td>\n",
              "      <td>1690</td>\n",
              "      <td>7639</td>\n",
              "    </tr>\n",
              "    <tr>\n",
              "      <th>2</th>\n",
              "      <td>5631500400</td>\n",
              "      <td>20150225T000000</td>\n",
              "      <td>180000.0</td>\n",
              "      <td>2</td>\n",
              "      <td>1.00</td>\n",
              "      <td>770</td>\n",
              "      <td>10000</td>\n",
              "      <td>1.0</td>\n",
              "      <td>0</td>\n",
              "      <td>0</td>\n",
              "      <td>3</td>\n",
              "      <td>6</td>\n",
              "      <td>770</td>\n",
              "      <td>0</td>\n",
              "      <td>1933</td>\n",
              "      <td>0</td>\n",
              "      <td>98028</td>\n",
              "      <td>47.7379</td>\n",
              "      <td>-122.233</td>\n",
              "      <td>2720</td>\n",
              "      <td>8062</td>\n",
              "    </tr>\n",
              "    <tr>\n",
              "      <th>3</th>\n",
              "      <td>2487200875</td>\n",
              "      <td>20141209T000000</td>\n",
              "      <td>604000.0</td>\n",
              "      <td>4</td>\n",
              "      <td>3.00</td>\n",
              "      <td>1960</td>\n",
              "      <td>5000</td>\n",
              "      <td>1.0</td>\n",
              "      <td>0</td>\n",
              "      <td>0</td>\n",
              "      <td>5</td>\n",
              "      <td>7</td>\n",
              "      <td>1050</td>\n",
              "      <td>910</td>\n",
              "      <td>1965</td>\n",
              "      <td>0</td>\n",
              "      <td>98136</td>\n",
              "      <td>47.5208</td>\n",
              "      <td>-122.393</td>\n",
              "      <td>1360</td>\n",
              "      <td>5000</td>\n",
              "    </tr>\n",
              "    <tr>\n",
              "      <th>4</th>\n",
              "      <td>1954400510</td>\n",
              "      <td>20150218T000000</td>\n",
              "      <td>510000.0</td>\n",
              "      <td>3</td>\n",
              "      <td>2.00</td>\n",
              "      <td>1680</td>\n",
              "      <td>8080</td>\n",
              "      <td>1.0</td>\n",
              "      <td>0</td>\n",
              "      <td>0</td>\n",
              "      <td>3</td>\n",
              "      <td>8</td>\n",
              "      <td>1680</td>\n",
              "      <td>0</td>\n",
              "      <td>1987</td>\n",
              "      <td>0</td>\n",
              "      <td>98074</td>\n",
              "      <td>47.6168</td>\n",
              "      <td>-122.045</td>\n",
              "      <td>1800</td>\n",
              "      <td>7503</td>\n",
              "    </tr>\n",
              "  </tbody>\n",
              "</table>\n",
              "</div>"
            ],
            "text/plain": [
              "           id             date     price  ...     long  sqft_living15  sqft_lot15\n",
              "0  7129300520  20141013T000000  221900.0  ... -122.257           1340        5650\n",
              "1  6414100192  20141209T000000  538000.0  ... -122.319           1690        7639\n",
              "2  5631500400  20150225T000000  180000.0  ... -122.233           2720        8062\n",
              "3  2487200875  20141209T000000  604000.0  ... -122.393           1360        5000\n",
              "4  1954400510  20150218T000000  510000.0  ... -122.045           1800        7503\n",
              "\n",
              "[5 rows x 21 columns]"
            ]
          },
          "metadata": {
            "tags": []
          },
          "execution_count": 3
        }
      ]
    },
    {
      "cell_type": "code",
      "metadata": {
        "id": "uuYUXQFmAdgS",
        "colab": {
          "base_uri": "https://localhost:8080/"
        },
        "outputId": "34f78173-6031-437b-c2c0-079e7b741cc6"
      },
      "source": [
        "df.info()"
      ],
      "execution_count": null,
      "outputs": [
        {
          "output_type": "stream",
          "text": [
            "<class 'pandas.core.frame.DataFrame'>\n",
            "RangeIndex: 21613 entries, 0 to 21612\n",
            "Data columns (total 21 columns):\n",
            " #   Column         Non-Null Count  Dtype  \n",
            "---  ------         --------------  -----  \n",
            " 0   id             21613 non-null  int64  \n",
            " 1   date           21613 non-null  object \n",
            " 2   price          21613 non-null  float64\n",
            " 3   bedrooms       21613 non-null  int64  \n",
            " 4   bathrooms      21613 non-null  float64\n",
            " 5   sqft_living    21613 non-null  int64  \n",
            " 6   sqft_lot       21613 non-null  int64  \n",
            " 7   floors         21613 non-null  float64\n",
            " 8   waterfront     21613 non-null  int64  \n",
            " 9   view           21613 non-null  int64  \n",
            " 10  condition      21613 non-null  int64  \n",
            " 11  grade          21613 non-null  int64  \n",
            " 12  sqft_above     21613 non-null  int64  \n",
            " 13  sqft_basement  21613 non-null  int64  \n",
            " 14  yr_built       21613 non-null  int64  \n",
            " 15  yr_renovated   21613 non-null  int64  \n",
            " 16  zipcode        21613 non-null  int64  \n",
            " 17  lat            21613 non-null  float64\n",
            " 18  long           21613 non-null  float64\n",
            " 19  sqft_living15  21613 non-null  int64  \n",
            " 20  sqft_lot15     21613 non-null  int64  \n",
            "dtypes: float64(5), int64(15), object(1)\n",
            "memory usage: 3.5+ MB\n"
          ],
          "name": "stdout"
        }
      ]
    },
    {
      "cell_type": "markdown",
      "metadata": {
        "id": "-eX6vOmdAU3v"
      },
      "source": [
        "### 1) 특성들과 타겟(Price)과의 상관계수를 계산하고 가장 상관관계가 높은 특성을 찾아 타겟과의 관계를 시각화 하세요.\n",
        "- **타겟과 상관관계가 가장 높은 특성의 이름을 과제 제출폼에 제출하세요.**"
      ]
    },
    {
      "cell_type": "code",
      "metadata": {
        "id": "3i9uV4f026_Q"
      },
      "source": [
        "#서열척도: grade, condition\n",
        "#명목척도: zipcode, \n",
        "#등간척도: yearbuilt, renovated ,lat,long"
      ],
      "execution_count": null,
      "outputs": []
    },
    {
      "cell_type": "code",
      "metadata": {
        "id": "7sGIBhpFAU3v",
        "colab": {
          "base_uri": "https://localhost:8080/"
        },
        "outputId": "084c4d78-9203-45eb-f156-f6a69e8280aa"
      },
      "source": [
        "### 이곳에서 과제를 진행해 주세요 ###\n",
        "import scipy.stats\n",
        "\n",
        "r_lst = []\n",
        "df_cols = ['bedrooms', 'bathrooms', 'sqft_living', 'sqft_lot', 'floors','waterfront', 'view','sqft_above','sqft_basement','sqft_living15', 'sqft_lot15']\n",
        "\n",
        "spearman_lst = []\n",
        "df_scols = ['condition', 'grade','yr_built', 'yr_renovated','lat', 'long']\n",
        "\n",
        "#corrcoef for ratio scaled features \n",
        "for col in df_cols:\n",
        "  r = np.corrcoef(df['price'], df[col])[0,1]\n",
        "  r_lst.append(r)\n",
        "\n",
        "#spearman \n",
        "for col2 in df_scols:\n",
        "  r2 = scipy.stats.spearmanr(df['price'], df[col2]).correlation\n",
        "  spearman_lst.append(r2)\n",
        "\n",
        "maxr = max(abs(np.array(r_lst)))\n",
        "ind = r_lst.index(maxr)\n",
        "name = df_cols[ind]\n",
        "\n",
        "maxr2 = max(abs(np.array(spearman_lst))) \n",
        "ind2 = spearman_lst.index(maxr2)\n",
        "name2 = df_scols[ind2]\n",
        "\n",
        "print(maxr)\n",
        "print(name)\n",
        "print('\\n')\n",
        "print(maxr2)\n",
        "print(name2)"
      ],
      "execution_count": 117,
      "outputs": [
        {
          "output_type": "stream",
          "text": [
            "0.7020350546118003\n",
            "sqft_living\n",
            "\n",
            "\n",
            "0.6582152214259375\n",
            "grade\n"
          ],
          "name": "stdout"
        }
      ]
    },
    {
      "cell_type": "code",
      "metadata": {
        "colab": {
          "base_uri": "https://localhost:8080/",
          "height": 296
        },
        "id": "Tv3yx2Ms-sHR",
        "outputId": "983e919e-6e8b-491d-dcfd-2f481e94ab32"
      },
      "source": [
        "#시각화 (평균기준모델 seaborn)\n",
        "x = df['sqft_living']\n",
        "y = df['price']\n",
        "\n",
        "predict = y.mean()\n",
        "errors =  predict - df['price']\n",
        "mean_abs_errors1 = errors.abs().mean()\n",
        "\n",
        "plt.title('Linear Regression (Sqft_living and Price)')\n",
        "sns.lineplot(x=x,y=predict,color='red')\n",
        "sns.scatterplot(x=x,y=y,color='blue')\n",
        "plt.show()"
      ],
      "execution_count": 119,
      "outputs": [
        {
          "output_type": "display_data",
          "data": {
            "image/png": "[encoded data removed]",
            "text/plain": [
              "<Figure size 432x288 with 1 Axes>"
            ]
          },
          "metadata": {
            "tags": [],
            "needs_background": "light"
          }
        }
      ]
    },
    {
      "cell_type": "code",
      "metadata": {
        "id": "ndjUJFiaSqEr"
      },
      "source": [
        "#시각화(평균기준모델)\n",
        "#import plotly.express as px\n",
        "#mean_abs_errors = errors.abs().mean()\n",
        "#\n",
        "#fig = px.scatter(df, x='sqft_living', y='price',title='Linear Regression (Sqft_living and Price)')\n",
        "#fig.add_shape(type='line',\n",
        "#                x0=0,\n",
        "#                y0=540088,\n",
        "#                x1=14000,\n",
        "#                y1=540088,\n",
        "#                line=dict(color='Red'),\n",
        "#                xref='x',\n",
        "#                yref='y'\n",
        "#)\n",
        "#fig.show()"
      ],
      "execution_count": 120,
      "outputs": []
    },
    {
      "cell_type": "markdown",
      "metadata": {
        "id": "vWHx4cbXAU3w"
      },
      "source": [
        "### 2) grade 와 price의 scatter plot을 그리고 기준모델을 시각화 해 보세요.\n",
        "- **기준모델의 값을 과제 제출폼에 제출하세요.**"
      ]
    },
    {
      "cell_type": "code",
      "metadata": {
        "id": "jueMSAYnAU3w",
        "colab": {
          "base_uri": "https://localhost:8080/",
          "height": 295
        },
        "outputId": "4e774569-32ba-45f4-972e-a003bb5ffc7e"
      },
      "source": [
        "### 이곳에서 과제를 진행해 주세요 ###\n",
        "#시각화\n",
        "x1 = df['grade']\n",
        "y1 = df['price']\n",
        "\n",
        "predict1 = y1.mean()\n",
        "errors1 =  predict1 - df['price']\n",
        "mean_abs_errors1 = errors1.abs().mean()\n",
        "\n",
        "plt.title('Linear Regression (Grade and Price)')\n",
        "sns.lineplot(x=x1,y=predict1,color='red')\n",
        "sns.scatterplot(x=x1,y=y1,color='blue')\n",
        "plt.show()"
      ],
      "execution_count": 118,
      "outputs": [
        {
          "output_type": "display_data",
          "data": {
            "image/png": "[encoded data removed]",
            "text/plain": [
              "<Figure size 432x288 with 1 Axes>"
            ]
          },
          "metadata": {
            "tags": [],
            "needs_background": "light"
          }
        }
      ]
    },
    {
      "cell_type": "code",
      "metadata": {
        "id": "2aPB9m3rLPyd",
        "colab": {
          "base_uri": "https://localhost:8080/"
        },
        "outputId": "4aaa8b24-c49d-425b-950b-762700900625"
      },
      "source": [
        "#기준모델의 값\n",
        "print(f'예측한 주택 가격이 ${predict1:,.0f}이며 절대평균에러가 ${mean_abs_errors1:,.0f}임을 확인할 수 있습니다.')"
      ],
      "execution_count": null,
      "outputs": [
        {
          "output_type": "stream",
          "text": [
            "예측한 주택 가격이 $540,088이며 절대평균에러가 $233,942임을 확인할 수 있습니다.\n"
          ],
          "name": "stdout"
        }
      ]
    },
    {
      "cell_type": "markdown",
      "metadata": {
        "id": "vcmpqO9bAU3w"
      },
      "source": [
        "### 3) Scikit-Learn 라이브러리를 사용해 특성 grade에 대한 선형회귀모델을 만들어 보세요.\n",
        "- **grade 값이 6인 경우에 모델이 예측하는 주택 가격을 과제 제출폼에 제출하세요.**"
      ]
    },
    {
      "cell_type": "code",
      "metadata": {
        "id": "MJ1EoAZ0OHws"
      },
      "source": [
        "### 이곳에서 과제를 진행해 주세요 ###\n",
        "from sklearn.linear_model import LinearRegression\n",
        "\n",
        "## 예측모델 인스턴스를 만듭니다\n",
        "model = LinearRegression()\n",
        "\n",
        "## X 특성들의 테이블과, y 타겟 벡터를 만듭니다\n",
        "feature = ['grade']\n",
        "target = ['price']\n",
        "X_train = df[feature]\n",
        "y_train = df[target]"
      ],
      "execution_count": null,
      "outputs": []
    },
    {
      "cell_type": "code",
      "metadata": {
        "colab": {
          "base_uri": "https://localhost:8080/"
        },
        "id": "EcImkxrYOc4k",
        "outputId": "5df3c309-08e4-4512-ab5d-9130530c22a2"
      },
      "source": [
        "## 모델을 학습(fit)합니다\n",
        "model.fit(X_train, y_train)"
      ],
      "execution_count": 108,
      "outputs": [
        {
          "output_type": "execute_result",
          "data": {
            "text/plain": [
              "LinearRegression(copy_X=True, fit_intercept=True, n_jobs=None, normalize=False)"
            ]
          },
          "metadata": {
            "tags": []
          },
          "execution_count": 108
        }
      ]
    },
    {
      "cell_type": "code",
      "metadata": {
        "colab": {
          "base_uri": "https://localhost:8080/"
        },
        "id": "ZyKG210mOgjE",
        "outputId": "a7c48f41-3d6a-40c5-eedf-5d7fc5cbddee"
      },
      "source": [
        "## grade가 6인샘플을 선택해 학습한 모델을 통해 예측해 봅니다\n",
        "X_test = [[6]]\n",
        "y_pred = model.predict(X_test)\n",
        "gr_pred_price = y_pred \n",
        "\n",
        "print(f'Grade {X_test[0][0]}를 가지는 주택의 예상 가격은 ${int(y_pred)} 입니다.')"
      ],
      "execution_count": 109,
      "outputs": [
        {
          "output_type": "stream",
          "text": [
            "Grade 6를 가지는 주택의 예상 가격은 $194700 입니다.\n"
          ],
          "name": "stdout"
        }
      ]
    },
    {
      "cell_type": "code",
      "metadata": {
        "id": "w5vRtC5CblPv"
      },
      "source": [
        "## 기존에 없는 샘플을 예측해보고자 합니다\n",
        "#df['grade'].unique() 를 통해 없는 값 확인 ->14\n",
        "#gr_pri_nex = model.predict([[14]])\n",
        "#result = 1862360.89740753"
      ],
      "execution_count": null,
      "outputs": []
    },
    {
      "cell_type": "code",
      "metadata": {
        "colab": {
          "base_uri": "https://localhost:8080/",
          "height": 295
        },
        "id": "MLDozuRb3MfB",
        "outputId": "692aab5d-5286-4ea2-c91b-9f0e9ab367f1"
      },
      "source": [
        "sns.regplot(x=df['grade'],y=df['price'],line_kws={\"color\": \"red\"})\n",
        "\n",
        "plt.title('Linear Regression (Grade and Price)')\n",
        "plt.show()\n"
      ],
      "execution_count": null,
      "outputs": [
        {
          "output_type": "display_data",
          "data": {
            "image/png": "[encoded data removed]",
            "text/plain": [
              "<Figure size 432x288 with 1 Axes>"
            ]
          },
          "metadata": {
            "tags": [],
            "needs_background": "light"
          }
        }
      ]
    },
    {
      "cell_type": "markdown",
      "metadata": {
        "id": "KotV6CsMAU3x"
      },
      "source": [
        "### 4) 만든 모델을 사용해 새로운 데이터에 대해 예측을 해 보고 coefficient를 사용해 설명해 보세요.\n",
        "- **grade 특성에 대한 회귀계수를 과제 제출폼에 제출하세요.**"
      ]
    },
    {
      "cell_type": "code",
      "metadata": {
        "id": "jBhBB9X5AU3x",
        "colab": {
          "base_uri": "https://localhost:8080/"
        },
        "outputId": "22facf26-e48c-4575-ad13-3b6de3e39c8f"
      },
      "source": [
        "### 이곳에서 과제를 진행해 주세요 ###\n",
        "#계수(coeff)\n",
        "grade_coef = model.coef_\n",
        "\n",
        "#절편(intercept)\n",
        "grade_intercept = model.intercept_\n",
        "\n",
        "print(float(grade_coef))\n",
        "print(float(grade_intercept))"
      ],
      "execution_count": null,
      "outputs": [
        {
          "output_type": "stream",
          "text": [
            "280.62356789744825\n",
            "-43580.74309447396\n"
          ],
          "name": "stdout"
        }
      ]
    },
    {
      "cell_type": "code",
      "metadata": {
        "colab": {
          "base_uri": "https://localhost:8080/"
        },
        "id": "VsmL1w3EQ5a0",
        "outputId": "ded1853c-885f-4191-cc22-e1b178bd0d3e"
      },
      "source": [
        "#새로운 데이터에 대해 예측, grade가 8인 경우! \n",
        "X_test1 = [[8]]\n",
        "y_pred1 = model.predict(X_test1)\n",
        "\n",
        "print(f'Grade {X_test1[0][0]}를 가지는 주택의 예상 가격은 ${int(y_pred1)} 입니다.')"
      ],
      "execution_count": null,
      "outputs": [
        {
          "output_type": "stream",
          "text": [
            "Grade 8를 가지는 주택의 예상 가격은 $611615 입니다.\n"
          ],
          "name": "stdout"
        }
      ]
    },
    {
      "cell_type": "code",
      "metadata": {
        "colab": {
          "base_uri": "https://localhost:8080/"
        },
        "id": "elLj-pn-6Hso",
        "outputId": "e903fc6c-24eb-49f9-825d-a6eb4f63dc03"
      },
      "source": [
        "#Explanation\n",
        "print(f'회귀선의 기울기(coefficient)는 {float(grade_coef)}이고 intercept는 {float(grade_intercept)}이므로,\\n회귀식은 y(주택예상가격) = 280.6*x(grade) - 43581 ')"
      ],
      "execution_count": null,
      "outputs": [
        {
          "output_type": "stream",
          "text": [
            "회귀선의 기울기(coefficient)는 280.62356789744825이고 intercept는 -43580.74309447396이므로,\n",
            "회귀식은 y(주택예상가격) = 280.6*x(grade) - 43581 \n"
          ],
          "name": "stdout"
        }
      ]
    },
    {
      "cell_type": "markdown",
      "metadata": {
        "id": "EBg_HmzuAU3y"
      },
      "source": [
        "### 5) sqft_living 특성을 사용하여 모델을 만들어 보고 두 모델을 비교해 보세요.\n",
        "- **sqft_living에 대한 회귀계수를 과제 제출폼에 제출하세요.**"
      ]
    },
    {
      "cell_type": "code",
      "metadata": {
        "id": "PgxAak3sAU3y"
      },
      "source": [
        "### 이곳에서 과제를 진행해 주세요 ###\n",
        "#feature data 와 target data 준비 \n",
        "feature_sq = ['sqft_living'] \n",
        "target_pr = ['price']\n",
        "\n",
        "X_train_sq = df[feature_sq]\n",
        "Y_train_sq = df[target_pr]"
      ],
      "execution_count": null,
      "outputs": []
    },
    {
      "cell_type": "code",
      "metadata": {
        "colab": {
          "base_uri": "https://localhost:8080/"
        },
        "id": "oNI9B8kGS-F8",
        "outputId": "b69be16d-98ec-4365-a56a-b4ec2c478499"
      },
      "source": [
        "## 예측모델 인스턴스를 만듭니다\n",
        "model2 = LinearRegression()\n",
        "\n",
        "#model 학습시킵니다\n",
        "model2.fit(X_train_sq,Y_train_sq)\n",
        "\n",
        "#coefficient 회귀계수 \n",
        "sqft_r = model2.coef_\n",
        "print(sqft_r)\n",
        "\n",
        "#intercept\n",
        "sqft_inter = model2.intercept_\n",
        "print(sqft_inter)"
      ],
      "execution_count": null,
      "outputs": [
        {
          "output_type": "stream",
          "text": [
            "[[280.6235679]]\n",
            "[-43580.74309447]\n"
          ],
          "name": "stdout"
        }
      ]
    },
    {
      "cell_type": "code",
      "metadata": {
        "colab": {
          "base_uri": "https://localhost:8080/"
        },
        "id": "OYNhDOF4THbT",
        "outputId": "800b3d8c-c9b7-40ad-a699-f58c7b8b6c46"
      },
      "source": [
        "## 새로운 데이터 한 샘플을 선택해 학습한 모델을 통해 예측해 봅니다\n",
        "sample = int(df['sqft_living'].sample(1,random_state=42).values)\n",
        "print(f'sample_sqft_living:{sample}')\n",
        "\n",
        "X_test_sq = [[sample]]\n",
        "y_pred_pr = model2.predict(X_test_sq)\n",
        "\n",
        "print(f'{X_test_sq[0][0]} sqft_living인 주택의 예상 가격은 ${int(y_pred_pr)} 입니다.')"
      ],
      "execution_count": null,
      "outputs": [
        {
          "output_type": "stream",
          "text": [
            "sample_sqft_living:2070\n",
            "2070 sqft_living인 주택의 예상 가격은 $537310 입니다.\n"
          ],
          "name": "stdout"
        }
      ]
    },
    {
      "cell_type": "code",
      "metadata": {
        "colab": {
          "base_uri": "https://localhost:8080/",
          "height": 296
        },
        "id": "-bat2GSN_EKN",
        "outputId": "315059b5-3e99-4a98-daca-6c89704ae66b"
      },
      "source": [
        "sns.regplot(x=df['sqft_living'],y=df['price'],line_kws={\"color\": \"red\"})\n",
        "\n",
        "plt.title('Linear Regression (sqft_living and Price)')\n",
        "plt.show()\n"
      ],
      "execution_count": 121,
      "outputs": [
        {
          "output_type": "display_data",
          "data": {
            "image/png": "[encoded data removed]",
            "text/plain": [
              "<Figure size 432x288 with 1 Axes>"
            ]
          },
          "metadata": {
            "tags": [],
            "needs_background": "light"
          }
        }
      ]
    },
    {
      "cell_type": "code",
      "metadata": {
        "id": "IzYG3VnCWpaQ"
      },
      "source": [
        "#fig = px.scatter(\n",
        "#    df, x='sqft_living', y='price', opacity=0.65,\n",
        "#    trendline='ols', trendline_color_override='red',\n",
        "#    title='Linear Regression (Sqft_living and Price)'\n",
        "#)\n",
        "#fig.show()"
      ],
      "execution_count": 122,
      "outputs": []
    },
    {
      "cell_type": "markdown",
      "metadata": {
        "id": "XrW4qQznAU3y"
      },
      "source": [
        "## 🔥도전과제\n",
        "\n",
        "### 6) 단순선형회귀모델을 만들기 위한 좋은 특성을 선택하기 위해 고려해야 하는 사항들에 대해 조사하고 서술하세요.\n",
        "\n",
        "### 7) OLS에 대해서 검색해 보고 본인의 이해를 녹여내어 10문장 내로 요약해 보세요."
      ]
    },
    {
      "cell_type": "code",
      "metadata": {
        "id": "h1bwuITgAU3y",
        "colab": {
          "base_uri": "https://localhost:8080/"
        },
        "outputId": "780703d2-a540-4569-d073-9f2ae4ccb32d"
      },
      "source": [
        "### 이곳에서 과제를 진행해 주세요 ###\n",
        "\n",
        "#simple linear regression model을 만들기 위한 좋은 특성\n",
        "\n",
        "print('특성: 예측하고자 하는 종속변수(y)와 독립변수(x)간에 선형적 상관관계가 있어야 합니다.\\n선형성의 측정: 피쳐간의 상관계수를 측정하는 방법으로 numpy.corrcoef 를 통해 구할 수 있습니다.')\n",
        "print('\\n')\n",
        "print('OLS: 어떤 데이터가 주어졌을 때 최적의 추세선을 그리기 위한 방법 중 하나가 최소자승법이라 할 수 있습니다.') \n",
        "print('Ordinary Least Square를 그리는 방법은 예측한 y값과 실제 y값의 차이(error 혹은 residual) 를 제곱하여 합한 값이 최소가 되는 선을 만드는 것입니다.')\n",
        "print('최소자승법을 활용하여 데이터(x,y의관계)를 가장 잘 표현하는 선형 회귀선을 그릴 수 있습니다.')"
      ],
      "execution_count": null,
      "outputs": [
        {
          "output_type": "stream",
          "text": [
            "특성: 예측하고자 하는 종속변수(y)와 독립변수(x)간에 선형적 상관관계가 있어야 합니다.\n",
            "선형성의 측정: 피쳐간의 상관계수를 측정하는 방법으로 numpy.corrcoef 를 통해 구할 수 있습니다.\n",
            "\n",
            "\n",
            "OLS: 어떤 데이터가 주어졌을 때 최적의 추세선을 그리기 위한 방법 중 하나가 최소자승법이라 할 수 있습니다.\n",
            "Ordinary Least Square를 그리는 방법은 예측한 y값과 실제 y값의 차이(error 혹은 residual) 를 제곱하여 합한 값이 최소가 되는 선을 만드는 것입니다.\n",
            "최소자승법을 활용하여 데이터(x,y의관계)를 가장 잘 표현하는 선형 회귀선을 그릴 수 있습니다.\n"
          ],
          "name": "stdout"
        }
      ]
    },
    {
      "cell_type": "markdown",
      "metadata": {
        "id": "a-3CXMLINwMY"
      },
      "source": [
        "## OLS 실습 "
      ]
    },
    {
      "cell_type": "code",
      "metadata": {
        "colab": {
          "base_uri": "https://localhost:8080/",
          "height": 478
        },
        "id": "CBBE4_h4J_0m",
        "outputId": "5e48997d-a8cd-4081-8dfd-59910724e688"
      },
      "source": [
        "import statsmodels.api as sm\n",
        "\n",
        "#OLS summary(sqft_living) : intercept라는 컬럼을 추가해야 다음 프로세스 진행가능하다고 합니다...?\n",
        "df['intercept'] = 1\n",
        "lm = sm.OLS(df['price'], df[['intercept', 'sqft_living']])\n",
        "\n",
        "results1 = lm.fit()\n",
        "results1.summary()"
      ],
      "execution_count": null,
      "outputs": [
        {
          "output_type": "execute_result",
          "data": {
            "text/html": [
              "<table class=\"simpletable\">\n",
              "<caption>OLS Regression Results</caption>\n",
              "<tr>\n",
              "  <th>Dep. Variable:</th>          <td>price</td>      <th>  R-squared:         </th>  <td>   0.493</td>  \n",
              "</tr>\n",
              "<tr>\n",
              "  <th>Model:</th>                   <td>OLS</td>       <th>  Adj. R-squared:    </th>  <td>   0.493</td>  \n",
              "</tr>\n",
              "<tr>\n",
              "  <th>Method:</th>             <td>Least Squares</td>  <th>  F-statistic:       </th>  <td>2.100e+04</td> \n",
              "</tr>\n",
              "<tr>\n",
              "  <th>Date:</th>             <td>Tue, 08 Jun 2021</td> <th>  Prob (F-statistic):</th>   <td>  0.00</td>   \n",
              "</tr>\n",
              "<tr>\n",
              "  <th>Time:</th>                 <td>06:08:13</td>     <th>  Log-Likelihood:    </th> <td>-3.0027e+05</td>\n",
              "</tr>\n",
              "<tr>\n",
              "  <th>No. Observations:</th>      <td> 21613</td>      <th>  AIC:               </th>  <td>6.005e+05</td> \n",
              "</tr>\n",
              "<tr>\n",
              "  <th>Df Residuals:</th>          <td> 21611</td>      <th>  BIC:               </th>  <td>6.006e+05</td> \n",
              "</tr>\n",
              "<tr>\n",
              "  <th>Df Model:</th>              <td>     1</td>      <th>                     </th>      <td> </td>     \n",
              "</tr>\n",
              "<tr>\n",
              "  <th>Covariance Type:</th>      <td>nonrobust</td>    <th>                     </th>      <td> </td>     \n",
              "</tr>\n",
              "</table>\n",
              "<table class=\"simpletable\">\n",
              "<tr>\n",
              "       <td></td>          <th>coef</th>     <th>std err</th>      <th>t</th>      <th>P>|t|</th>  <th>[0.025</th>    <th>0.975]</th>  \n",
              "</tr>\n",
              "<tr>\n",
              "  <th>intercept</th>   <td>-4.358e+04</td> <td> 4402.690</td> <td>   -9.899</td> <td> 0.000</td> <td>-5.22e+04</td> <td> -3.5e+04</td>\n",
              "</tr>\n",
              "<tr>\n",
              "  <th>sqft_living</th> <td>  280.6236</td> <td>    1.936</td> <td>  144.920</td> <td> 0.000</td> <td>  276.828</td> <td>  284.419</td>\n",
              "</tr>\n",
              "</table>\n",
              "<table class=\"simpletable\">\n",
              "<tr>\n",
              "  <th>Omnibus:</th>       <td>14832.490</td> <th>  Durbin-Watson:     </th>  <td>   1.983</td> \n",
              "</tr>\n",
              "<tr>\n",
              "  <th>Prob(Omnibus):</th>  <td> 0.000</td>   <th>  Jarque-Bera (JB):  </th> <td>546444.713</td>\n",
              "</tr>\n",
              "<tr>\n",
              "  <th>Skew:</th>           <td> 2.824</td>   <th>  Prob(JB):          </th>  <td>    0.00</td> \n",
              "</tr>\n",
              "<tr>\n",
              "  <th>Kurtosis:</th>       <td>26.977</td>   <th>  Cond. No.          </th>  <td>5.63e+03</td> \n",
              "</tr>\n",
              "</table><br/><br/>Warnings:<br/>[1] Standard Errors assume that the covariance matrix of the errors is correctly specified.<br/>[2] The condition number is large, 5.63e+03. This might indicate that there are<br/>strong multicollinearity or other numerical problems."
            ],
            "text/plain": [
              "<class 'statsmodels.iolib.summary.Summary'>\n",
              "\"\"\"\n",
              "                            OLS Regression Results                            \n",
              "==============================================================================\n",
              "Dep. Variable:                  price   R-squared:                       0.493\n",
              "Model:                            OLS   Adj. R-squared:                  0.493\n",
              "Method:                 Least Squares   F-statistic:                 2.100e+04\n",
              "Date:                Tue, 08 Jun 2021   Prob (F-statistic):               0.00\n",
              "Time:                        06:08:13   Log-Likelihood:            -3.0027e+05\n",
              "No. Observations:               21613   AIC:                         6.005e+05\n",
              "Df Residuals:                   21611   BIC:                         6.006e+05\n",
              "Df Model:                           1                                         \n",
              "Covariance Type:            nonrobust                                         \n",
              "===============================================================================\n",
              "                  coef    std err          t      P>|t|      [0.025      0.975]\n",
              "-------------------------------------------------------------------------------\n",
              "intercept   -4.358e+04   4402.690     -9.899      0.000   -5.22e+04    -3.5e+04\n",
              "sqft_living   280.6236      1.936    144.920      0.000     276.828     284.419\n",
              "==============================================================================\n",
              "Omnibus:                    14832.490   Durbin-Watson:                   1.983\n",
              "Prob(Omnibus):                  0.000   Jarque-Bera (JB):           546444.713\n",
              "Skew:                           2.824   Prob(JB):                         0.00\n",
              "Kurtosis:                      26.977   Cond. No.                     5.63e+03\n",
              "==============================================================================\n",
              "\n",
              "Warnings:\n",
              "[1] Standard Errors assume that the covariance matrix of the errors is correctly specified.\n",
              "[2] The condition number is large, 5.63e+03. This might indicate that there are\n",
              "strong multicollinearity or other numerical problems.\n",
              "\"\"\""
            ]
          },
          "metadata": {
            "tags": []
          },
          "execution_count": 78
        }
      ]
    },
    {
      "cell_type": "code",
      "metadata": {
        "colab": {
          "base_uri": "https://localhost:8080/",
          "height": 444
        },
        "id": "CqBZRlZ2QjGX",
        "outputId": "f63b6f9b-3611-4132-d375-44f23a6759cf"
      },
      "source": [
        "##OLS summary(grade) \n",
        "df['intercept'] = 1\n",
        "lm2 = sm.OLS(df['price'], df[['intercept', 'grade']])\n",
        "\n",
        "results2 = lm2.fit()\n",
        "results2.summary()"
      ],
      "execution_count": null,
      "outputs": [
        {
          "output_type": "execute_result",
          "data": {
            "text/html": [
              "<table class=\"simpletable\">\n",
              "<caption>OLS Regression Results</caption>\n",
              "<tr>\n",
              "  <th>Dep. Variable:</th>          <td>price</td>      <th>  R-squared:         </th>  <td>   0.445</td>  \n",
              "</tr>\n",
              "<tr>\n",
              "  <th>Model:</th>                   <td>OLS</td>       <th>  Adj. R-squared:    </th>  <td>   0.445</td>  \n",
              "</tr>\n",
              "<tr>\n",
              "  <th>Method:</th>             <td>Least Squares</td>  <th>  F-statistic:       </th>  <td>1.736e+04</td> \n",
              "</tr>\n",
              "<tr>\n",
              "  <th>Date:</th>             <td>Tue, 08 Jun 2021</td> <th>  Prob (F-statistic):</th>   <td>  0.00</td>   \n",
              "</tr>\n",
              "<tr>\n",
              "  <th>Time:</th>                 <td>06:14:57</td>     <th>  Log-Likelihood:    </th> <td>-3.0123e+05</td>\n",
              "</tr>\n",
              "<tr>\n",
              "  <th>No. Observations:</th>      <td> 21613</td>      <th>  AIC:               </th>  <td>6.025e+05</td> \n",
              "</tr>\n",
              "<tr>\n",
              "  <th>Df Residuals:</th>          <td> 21611</td>      <th>  BIC:               </th>  <td>6.025e+05</td> \n",
              "</tr>\n",
              "<tr>\n",
              "  <th>Df Model:</th>              <td>     1</td>      <th>                     </th>      <td> </td>     \n",
              "</tr>\n",
              "<tr>\n",
              "  <th>Covariance Type:</th>      <td>nonrobust</td>    <th>                     </th>      <td> </td>     \n",
              "</tr>\n",
              "</table>\n",
              "<table class=\"simpletable\">\n",
              "<tr>\n",
              "      <td></td>         <th>coef</th>     <th>std err</th>      <th>t</th>      <th>P>|t|</th>  <th>[0.025</th>    <th>0.975]</th>  \n",
              "</tr>\n",
              "<tr>\n",
              "  <th>intercept</th> <td>-1.056e+06</td> <td> 1.23e+04</td> <td>  -86.166</td> <td> 0.000</td> <td>-1.08e+06</td> <td>-1.03e+06</td>\n",
              "</tr>\n",
              "<tr>\n",
              "  <th>grade</th>     <td> 2.085e+05</td> <td> 1582.103</td> <td>  131.760</td> <td> 0.000</td> <td> 2.05e+05</td> <td> 2.12e+05</td>\n",
              "</tr>\n",
              "</table>\n",
              "<table class=\"simpletable\">\n",
              "<tr>\n",
              "  <th>Omnibus:</th>       <td>19920.375</td> <th>  Durbin-Watson:     </th>  <td>   1.969</td>  \n",
              "</tr>\n",
              "<tr>\n",
              "  <th>Prob(Omnibus):</th>  <td> 0.000</td>   <th>  Jarque-Bera (JB):  </th> <td>2053087.758</td>\n",
              "</tr>\n",
              "<tr>\n",
              "  <th>Skew:</th>           <td> 4.090</td>   <th>  Prob(JB):          </th>  <td>    0.00</td>  \n",
              "</tr>\n",
              "<tr>\n",
              "  <th>Kurtosis:</th>       <td>50.042</td>   <th>  Cond. No.          </th>  <td>    51.9</td>  \n",
              "</tr>\n",
              "</table><br/><br/>Warnings:<br/>[1] Standard Errors assume that the covariance matrix of the errors is correctly specified."
            ],
            "text/plain": [
              "<class 'statsmodels.iolib.summary.Summary'>\n",
              "\"\"\"\n",
              "                            OLS Regression Results                            \n",
              "==============================================================================\n",
              "Dep. Variable:                  price   R-squared:                       0.445\n",
              "Model:                            OLS   Adj. R-squared:                  0.445\n",
              "Method:                 Least Squares   F-statistic:                 1.736e+04\n",
              "Date:                Tue, 08 Jun 2021   Prob (F-statistic):               0.00\n",
              "Time:                        06:14:57   Log-Likelihood:            -3.0123e+05\n",
              "No. Observations:               21613   AIC:                         6.025e+05\n",
              "Df Residuals:                   21611   BIC:                         6.025e+05\n",
              "Df Model:                           1                                         \n",
              "Covariance Type:            nonrobust                                         \n",
              "==============================================================================\n",
              "                 coef    std err          t      P>|t|      [0.025      0.975]\n",
              "------------------------------------------------------------------------------\n",
              "intercept  -1.056e+06   1.23e+04    -86.166      0.000   -1.08e+06   -1.03e+06\n",
              "grade       2.085e+05   1582.103    131.760      0.000    2.05e+05    2.12e+05\n",
              "==============================================================================\n",
              "Omnibus:                    19920.375   Durbin-Watson:                   1.969\n",
              "Prob(Omnibus):                  0.000   Jarque-Bera (JB):          2053087.758\n",
              "Skew:                           4.090   Prob(JB):                         0.00\n",
              "Kurtosis:                      50.042   Cond. No.                         51.9\n",
              "==============================================================================\n",
              "\n",
              "Warnings:\n",
              "[1] Standard Errors assume that the covariance matrix of the errors is correctly specified.\n",
              "\"\"\""
            ]
          },
          "metadata": {
            "tags": []
          },
          "execution_count": 79
        }
      ]
    },
    {
      "cell_type": "code",
      "metadata": {
        "id": "FKGbZz85Qn7a"
      },
      "source": [
        ""
      ],
      "execution_count": null,
      "outputs": []
    }
  ]
}